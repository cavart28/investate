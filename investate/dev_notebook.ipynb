{
 "cells": [
  {
   "cell_type": "code",
   "execution_count": null,
   "metadata": {
    "collapsed": true
   },
   "outputs": [],
   "source": [
    "\n",
    "from decimal import Decimal\n",
    "\n",
    "import requests\n",
    "from order_book import OrderBook\n",
    "\n",
    "ob = OrderBook()\n",
    "\n",
    "# get some orderbook data\n",
    "data = requests.get(\"https://api.pro.coinbase.com/products/BTC-USD/book?level=2\").json()\n",
    "\n",
    "ob.bids = {Decimal(price): size for price, size, _ in data['bids']}\n",
    "ob.asks = {Decimal(price): size for price, size, _ in data['asks']}"
   ]
  }
 ],
 "metadata": {
  "kernelspec": {
   "display_name": "Python 3",
   "language": "python",
   "name": "python3"
  },
  "language_info": {
   "codemirror_mode": {
    "name": "ipython",
    "version": 2
   },
   "file_extension": ".py",
   "mimetype": "text/x-python",
   "name": "python",
   "nbconvert_exporter": "python",
   "pygments_lexer": "ipython2",
   "version": "2.7.6"
  }
 },
 "nbformat": 4,
 "nbformat_minor": 0
}